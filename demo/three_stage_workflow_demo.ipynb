{
  "cells": [
    {
      "cell_type": "raw",
      "metadata": {
        "vscode": {
          "languageId": "raw"
        }
      },
      "source": [
        "# 🛡️ Three-Stage Workflow Demo\n",
        "\n",
        "**Demonstrating the three-stage PII deidentification workflow:**\n",
        "- **(a) Original transcript** - Raw input with variations like 'C h l o e'\n",
        "- **(b) Normalized transcript** - After TextNormaliser converts 'C h l o e' → 'chloe' \n",
        "- **(c) Cleaned transcript** - After PII removal frameworks\n",
        "\n",
        "## 📋 Demo Sections\n",
        "1. **Performance Overview** - Framework metrics and evaluation\n",
        "2. **Stage Comparison** - Visual comparison of all three stages\n"
      ]
    },
    {
      "cell_type": "raw",
      "metadata": {
        "vscode": {
          "languageId": "raw"
        }
      },
      "source": [
        "RealDataWorkflowDemo"
      ]
    },
    {
      "cell_type": "raw",
      "metadata": {
        "vscode": {
          "languageId": "raw"
        }
      },
      "source": [
        "## 🔧 Setup and Configuration\n"
      ]
    },
    {
      "cell_type": "code",
      "execution_count": 1,
      "metadata": {},
      "outputs": [],
      "source": [
        "import pandas as pd\n",
        "import numpy as np\n",
        "import sys\n",
        "import os\n",
        "from pathlib import Path\n",
        "from IPython.display import HTML, display\n",
        "import warnings\n",
        "warnings.filterwarnings('ignore')\n",
        "\n",
        "# Add src to path for imports\n",
        "project_root = Path().absolute().parent\n",
        "sys.path.append(str(project_root / 'src'))\n",
        "\n",
        "# Import existing functions\n",
        "from evaluation.metrics import PIIEvaluator\n",
        "from evaluation.diagnostics import (\n",
        "    get_transcript_cases_by_performance,\n",
        "    create_three_stage_html_table  # New function we'll add\n",
        ")\n",
        "from baseline.presidio_framework import PurePresidioFramework\n",
        "from utils.text_normaliser import TextNormaliser\n"
      ]
    },
    {
      "cell_type": "raw",
      "metadata": {
        "vscode": {
          "languageId": "raw"
        }
      },
      "source": [
        "## 📊 Data Loading and Three-Stage Processing\n"
      ]
    },
    {
      "cell_type": "code",
      "execution_count": 2,
      "metadata": {},
      "outputs": [
        {
          "name": "stdout",
          "output_type": "stream",
          "text": [
            "🔍 Loading data from: c:\\Users\\ningw\\Desktop\\Repo\\agentic-pii-deidentification_original\\.data\\synthetic_call_transcripts_voice_to_texts.csv\n",
            "✅ Loaded raw data: 3 transcripts\n",
            "📋 Columns: ['call_id', 'consultant_first_name', 'member_number', 'member_first_name', 'member_full_name', 'member_mobile', 'member_email', 'member_address', 'call_transcript']\n",
            "\n",
            "🔧 Converting to canonical format...\n",
            "✅ Canonical format: (3, 9)\n",
            "📊 Using first 3 transcripts for demo\n"
          ]
        }
      ],
      "source": [
        "# Configuration\n",
        "DATA_PATH = project_root / '.data' / 'synthetic_call_transcripts_voice_to_texts.csv'\n",
        "EVALUATION_MODE = 'business'  # Focus on PII protection rather than exact type matching\n",
        "N_SAMPLES = 3  # Process first 3 transcripts for demo\n",
        "\n",
        "print(f\"🔍 Loading data from: {DATA_PATH}\")\n",
        "\n",
        "# Load the voice-to-text data (has duplicate columns)\n",
        "if DATA_PATH.exists():\n",
        "    raw_df = pd.read_csv(DATA_PATH)\n",
        "    print(f\"✅ Loaded raw data: {len(raw_df)} transcripts\")\n",
        "    print(f\"📋 Columns: {list(raw_df.columns)}\")\n",
        "else:\n",
        "    print(f\"❌ Data file not found at {DATA_PATH}\")\n",
        "    raise FileNotFoundError(f\"Please ensure {DATA_PATH} exists\")\n",
        "\n",
        "# Clean up duplicate columns and create canonical structure\n",
        "print(f\"\\n🔧 Converting to canonical format...\")\n",
        "clean_df = pd.DataFrame({\n",
        "    'call_id': raw_df['call_id'],\n",
        "    'consultant_first_name': raw_df['consultant_first_name'],\n",
        "    'member_number': raw_df['member_number'].astype(str),\n",
        "    'member_first_name': raw_df.iloc[:, 3],  # First member_first_name column (canonical)\n",
        "    'member_full_name': raw_df['member_full_name'],\n",
        "    'member_mobile': raw_df.iloc[:, 6],  # First member_mobile column (canonical)\n",
        "    'member_email': raw_df.iloc[:, 8],  # First member_email column (canonical)\n",
        "    'member_address': raw_df['member_address'],\n",
        "    'call_transcript': raw_df['call_transcript']\n",
        "})\n",
        "\n",
        "print(f\"✅ Canonical format: {clean_df.shape}\")\n",
        "print(f\"📊 Using first {N_SAMPLES} transcripts for demo\")\n",
        "\n",
        "# Select sample for demo\n",
        "demo_df = clean_df.head(N_SAMPLES).copy()\n"
      ]
    },
    {
      "cell_type": "code",
      "execution_count": 3,
      "metadata": {},
      "outputs": [
        {
          "name": "stdout",
          "output_type": "stream",
          "text": [
            "🔄 Processing 3 transcripts through three-stage workflow...\n",
            "   ✅ Processed call_id 1\n",
            "   ✅ Processed call_id 2\n",
            "   ✅ Processed call_id 3\n",
            "\n",
            "🎉 Three-stage processing complete!\n"
          ]
        }
      ],
      "source": [
        "# Initialize components\n",
        "normalizer = TextNormaliser()\n",
        "framework = PurePresidioFramework(enable_mlflow=False)  # Disable MLflow for demo\n",
        "\n",
        "# Process through three stages\n",
        "print(f\"🔄 Processing {len(demo_df)} transcripts through three-stage workflow...\")\n",
        "\n",
        "three_stage_results = []\n",
        "\n",
        "for idx, row in demo_df.iterrows():\n",
        "    call_id = row['call_id']\n",
        "    \n",
        "    # Stage A: Original transcript\n",
        "    stage_a = row['call_transcript']\n",
        "    \n",
        "    # Stage B: Normalized transcript\n",
        "    stage_b = normalizer.normalize_text(stage_a)\n",
        "    \n",
        "    # Stage C: Process with PII framework (using normalized text)\n",
        "    pii_result = framework.process_transcript(stage_b)\n",
        "    stage_c = pii_result['anonymized_text']\n",
        "    \n",
        "    # Store results\n",
        "    result = {\n",
        "        'call_id': call_id,\n",
        "        'stage_a_original': stage_a,\n",
        "        'stage_b_normalized': stage_b,\n",
        "        'stage_c_cleaned': stage_c,\n",
        "        'pii_detections': pii_result['pii_detections'],\n",
        "        'processing_metadata': {\n",
        "            'normalization_applied': stage_a != stage_b,\n",
        "            'original_length': len(stage_a),\n",
        "            'normalized_length': len(stage_b),\n",
        "            'cleaned_length': len(stage_c)\n",
        "        },\n",
        "        # Ground truth (canonical values)\n",
        "        'member_first_name': row['member_first_name'],\n",
        "        'member_full_name': row['member_full_name'],\n",
        "        'member_email': row['member_email'],\n",
        "        'member_mobile': row['member_mobile'],\n",
        "        'member_address': row['member_address'],\n",
        "        'member_number': str(row['member_number']),\n",
        "        'consultant_first_name': row['consultant_first_name']\n",
        "    }\n",
        "    \n",
        "    three_stage_results.append(result)\n",
        "    print(f\"   ✅ Processed call_id {call_id}\")\n",
        "\n",
        "print(f\"\\n🎉 Three-stage processing complete!\")\n"
      ]
    },
    {
      "cell_type": "code",
      "execution_count": null,
      "metadata": {},
      "outputs": [],
      "source": [
        "# Display the three-stage workflow results as an HTML table\n",
        "html = create_three_stage_html_table(\n",
        "    transcript_data=three_stage_results,\n",
        "    title=\"Three-Stage Workflow Analysis\",\n",
        "    description=\"Demonstration of original, normalized, and cleaned transcripts with PII detection results.\",\n",
        "    matching_mode='business',\n",
        "    show_original=False\n",
        ")\n",
        "\n",
        "from IPython.display import display, HTML\n",
        "display(HTML(html))"
      ]
    }
  ],
  "metadata": {
    "kernelspec": {
      "display_name": ".venv",
      "language": "python",
      "name": "python3"
    },
    "language_info": {
      "codemirror_mode": {
        "name": "ipython",
        "version": 3
      },
      "file_extension": ".py",
      "mimetype": "text/x-python",
      "name": "python",
      "nbconvert_exporter": "python",
      "pygments_lexer": "ipython3",
      "version": "3.11.9"
    }
  },
  "nbformat": 4,
  "nbformat_minor": 2
}
